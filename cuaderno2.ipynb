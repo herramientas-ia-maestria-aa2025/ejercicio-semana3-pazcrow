{
 "cells": [
  {
   "cell_type": "code",
   "execution_count": 3,
   "id": "c511fb0e",
   "metadata": {},
   "outputs": [
    {
     "name": "stdout",
     "output_type": "stream",
     "text": [
      "Requirement already satisfied: pygwalker in /home/luis-pazmino/Documents/Maestria/.venv/lib/python3.12/site-packages (0.4.9.15)\n",
      "Requirement already satisfied: anywidget in /home/luis-pazmino/Documents/Maestria/.venv/lib/python3.12/site-packages (from pygwalker) (0.9.18)\n",
      "Requirement already satisfied: appdirs in /home/luis-pazmino/Documents/Maestria/.venv/lib/python3.12/site-packages (from pygwalker) (1.4.4)\n",
      "Requirement already satisfied: arrow in /home/luis-pazmino/Documents/Maestria/.venv/lib/python3.12/site-packages (from pygwalker) (1.3.0)\n",
      "Requirement already satisfied: astor in /home/luis-pazmino/Documents/Maestria/.venv/lib/python3.12/site-packages (from pygwalker) (0.8.1)\n",
      "Requirement already satisfied: cachetools in /home/luis-pazmino/Documents/Maestria/.venv/lib/python3.12/site-packages (from pygwalker) (5.5.2)\n",
      "Requirement already satisfied: duckdb<2.0.0,>=0.10.1 in /home/luis-pazmino/Documents/Maestria/.venv/lib/python3.12/site-packages (from pygwalker) (1.2.2)\n",
      "Requirement already satisfied: gw-dsl-parser==0.1.49.1 in /home/luis-pazmino/Documents/Maestria/.venv/lib/python3.12/site-packages (from pygwalker) (0.1.49.1)\n",
      "Requirement already satisfied: ipylab<=1.0.0 in /home/luis-pazmino/Documents/Maestria/.venv/lib/python3.12/site-packages (from pygwalker) (1.0.0)\n",
      "Requirement already satisfied: ipython in /home/luis-pazmino/Documents/Maestria/.venv/lib/python3.12/site-packages (from pygwalker) (9.2.0)\n",
      "Requirement already satisfied: ipywidgets in /home/luis-pazmino/Documents/Maestria/.venv/lib/python3.12/site-packages (from pygwalker) (8.1.6)\n",
      "Requirement already satisfied: jinja2 in /home/luis-pazmino/Documents/Maestria/.venv/lib/python3.12/site-packages (from pygwalker) (3.1.6)\n",
      "Requirement already satisfied: kanaries-track==0.0.5 in /home/luis-pazmino/Documents/Maestria/.venv/lib/python3.12/site-packages (from pygwalker) (0.0.5)\n",
      "Requirement already satisfied: numpy in /home/luis-pazmino/Documents/Maestria/.venv/lib/python3.12/site-packages (from pygwalker) (2.2.5)\n",
      "Requirement already satisfied: packaging in /home/luis-pazmino/Documents/Maestria/.venv/lib/python3.12/site-packages (from pygwalker) (25.0)\n",
      "Requirement already satisfied: pandas in /home/luis-pazmino/Documents/Maestria/.venv/lib/python3.12/site-packages (from pygwalker) (2.2.3)\n",
      "Requirement already satisfied: psutil in /home/luis-pazmino/Documents/Maestria/.venv/lib/python3.12/site-packages (from pygwalker) (7.0.0)\n",
      "Requirement already satisfied: pyarrow in /home/luis-pazmino/Documents/Maestria/.venv/lib/python3.12/site-packages (from pygwalker) (19.0.1)\n",
      "Requirement already satisfied: pydantic in /home/luis-pazmino/Documents/Maestria/.venv/lib/python3.12/site-packages (from pygwalker) (2.11.3)\n",
      "Requirement already satisfied: pytz in /home/luis-pazmino/Documents/Maestria/.venv/lib/python3.12/site-packages (from pygwalker) (2025.2)\n",
      "Requirement already satisfied: quickjs in /home/luis-pazmino/Documents/Maestria/.venv/lib/python3.12/site-packages (from pygwalker) (1.19.4)\n",
      "Requirement already satisfied: requests in /home/luis-pazmino/Documents/Maestria/.venv/lib/python3.12/site-packages (from pygwalker) (2.32.3)\n",
      "Requirement already satisfied: segment-analytics-python==2.2.3 in /home/luis-pazmino/Documents/Maestria/.venv/lib/python3.12/site-packages (from pygwalker) (2.2.3)\n",
      "Requirement already satisfied: sqlalchemy in /home/luis-pazmino/Documents/Maestria/.venv/lib/python3.12/site-packages (from pygwalker) (2.0.40)\n",
      "Requirement already satisfied: sqlglot>=23.15.8 in /home/luis-pazmino/Documents/Maestria/.venv/lib/python3.12/site-packages (from pygwalker) (26.16.2)\n",
      "Requirement already satisfied: traitlets in /home/luis-pazmino/Documents/Maestria/.venv/lib/python3.12/site-packages (from pygwalker) (5.14.3)\n",
      "Requirement already satisfied: typing-extensions in /home/luis-pazmino/Documents/Maestria/.venv/lib/python3.12/site-packages (from pygwalker) (4.13.2)\n",
      "Requirement already satisfied: wasmtime>=12.0.0 in /home/luis-pazmino/Documents/Maestria/.venv/lib/python3.12/site-packages (from gw-dsl-parser==0.1.49.1->pygwalker) (32.0.0)\n",
      "Requirement already satisfied: backoff>=2.2.1 in /home/luis-pazmino/Documents/Maestria/.venv/lib/python3.12/site-packages (from kanaries-track==0.0.5->pygwalker) (2.2.1)\n",
      "Requirement already satisfied: dateutils>=0.6.12 in /home/luis-pazmino/Documents/Maestria/.venv/lib/python3.12/site-packages (from kanaries-track==0.0.5->pygwalker) (0.6.12)\n",
      "Requirement already satisfied: monotonic~=1.5 in /home/luis-pazmino/Documents/Maestria/.venv/lib/python3.12/site-packages (from segment-analytics-python==2.2.3->pygwalker) (1.6)\n",
      "Requirement already satisfied: python-dateutil~=2.2 in /home/luis-pazmino/Documents/Maestria/.venv/lib/python3.12/site-packages (from segment-analytics-python==2.2.3->pygwalker) (2.9.0.post0)\n",
      "Requirement already satisfied: comm>=0.1.3 in /home/luis-pazmino/Documents/Maestria/.venv/lib/python3.12/site-packages (from ipywidgets->pygwalker) (0.2.2)\n",
      "Requirement already satisfied: widgetsnbextension~=4.0.14 in /home/luis-pazmino/Documents/Maestria/.venv/lib/python3.12/site-packages (from ipywidgets->pygwalker) (4.0.14)\n",
      "Requirement already satisfied: jupyterlab_widgets~=3.0.14 in /home/luis-pazmino/Documents/Maestria/.venv/lib/python3.12/site-packages (from ipywidgets->pygwalker) (3.0.14)\n",
      "Requirement already satisfied: decorator in /home/luis-pazmino/Documents/Maestria/.venv/lib/python3.12/site-packages (from ipython->pygwalker) (5.2.1)\n",
      "Requirement already satisfied: ipython-pygments-lexers in /home/luis-pazmino/Documents/Maestria/.venv/lib/python3.12/site-packages (from ipython->pygwalker) (1.1.1)\n",
      "Requirement already satisfied: jedi>=0.16 in /home/luis-pazmino/Documents/Maestria/.venv/lib/python3.12/site-packages (from ipython->pygwalker) (0.19.2)\n",
      "Requirement already satisfied: matplotlib-inline in /home/luis-pazmino/Documents/Maestria/.venv/lib/python3.12/site-packages (from ipython->pygwalker) (0.1.7)\n",
      "Requirement already satisfied: pexpect>4.3 in /home/luis-pazmino/Documents/Maestria/.venv/lib/python3.12/site-packages (from ipython->pygwalker) (4.9.0)\n",
      "Requirement already satisfied: prompt_toolkit<3.1.0,>=3.0.41 in /home/luis-pazmino/Documents/Maestria/.venv/lib/python3.12/site-packages (from ipython->pygwalker) (3.0.51)\n",
      "Requirement already satisfied: pygments>=2.4.0 in /home/luis-pazmino/Documents/Maestria/.venv/lib/python3.12/site-packages (from ipython->pygwalker) (2.19.1)\n",
      "Requirement already satisfied: stack_data in /home/luis-pazmino/Documents/Maestria/.venv/lib/python3.12/site-packages (from ipython->pygwalker) (0.6.3)\n",
      "Requirement already satisfied: charset-normalizer<4,>=2 in /home/luis-pazmino/Documents/Maestria/.venv/lib/python3.12/site-packages (from requests->pygwalker) (3.4.1)\n",
      "Requirement already satisfied: idna<4,>=2.5 in /home/luis-pazmino/Documents/Maestria/.venv/lib/python3.12/site-packages (from requests->pygwalker) (3.10)\n",
      "Requirement already satisfied: urllib3<3,>=1.21.1 in /home/luis-pazmino/Documents/Maestria/.venv/lib/python3.12/site-packages (from requests->pygwalker) (2.4.0)\n",
      "Requirement already satisfied: certifi>=2017.4.17 in /home/luis-pazmino/Documents/Maestria/.venv/lib/python3.12/site-packages (from requests->pygwalker) (2025.1.31)\n",
      "Requirement already satisfied: psygnal>=0.8.1 in /home/luis-pazmino/Documents/Maestria/.venv/lib/python3.12/site-packages (from anywidget->pygwalker) (0.12.0)\n",
      "Requirement already satisfied: types-python-dateutil>=2.8.10 in /home/luis-pazmino/Documents/Maestria/.venv/lib/python3.12/site-packages (from arrow->pygwalker) (2.9.0.20241206)\n",
      "Requirement already satisfied: MarkupSafe>=2.0 in /home/luis-pazmino/Documents/Maestria/.venv/lib/python3.12/site-packages (from jinja2->pygwalker) (3.0.2)\n",
      "Requirement already satisfied: tzdata>=2022.7 in /home/luis-pazmino/Documents/Maestria/.venv/lib/python3.12/site-packages (from pandas->pygwalker) (2025.2)\n",
      "Requirement already satisfied: annotated-types>=0.6.0 in /home/luis-pazmino/Documents/Maestria/.venv/lib/python3.12/site-packages (from pydantic->pygwalker) (0.7.0)\n",
      "Requirement already satisfied: pydantic-core==2.33.1 in /home/luis-pazmino/Documents/Maestria/.venv/lib/python3.12/site-packages (from pydantic->pygwalker) (2.33.1)\n",
      "Requirement already satisfied: typing-inspection>=0.4.0 in /home/luis-pazmino/Documents/Maestria/.venv/lib/python3.12/site-packages (from pydantic->pygwalker) (0.4.0)\n",
      "Requirement already satisfied: greenlet>=1 in /home/luis-pazmino/Documents/Maestria/.venv/lib/python3.12/site-packages (from sqlalchemy->pygwalker) (3.2.1)\n",
      "Requirement already satisfied: parso<0.9.0,>=0.8.4 in /home/luis-pazmino/Documents/Maestria/.venv/lib/python3.12/site-packages (from jedi>=0.16->ipython->pygwalker) (0.8.4)\n",
      "Requirement already satisfied: ptyprocess>=0.5 in /home/luis-pazmino/Documents/Maestria/.venv/lib/python3.12/site-packages (from pexpect>4.3->ipython->pygwalker) (0.7.0)\n",
      "Requirement already satisfied: wcwidth in /home/luis-pazmino/Documents/Maestria/.venv/lib/python3.12/site-packages (from prompt_toolkit<3.1.0,>=3.0.41->ipython->pygwalker) (0.2.13)\n",
      "Requirement already satisfied: six>=1.5 in /home/luis-pazmino/Documents/Maestria/.venv/lib/python3.12/site-packages (from python-dateutil~=2.2->segment-analytics-python==2.2.3->pygwalker) (1.17.0)\n",
      "Requirement already satisfied: importlib_resources>=5.10 in /home/luis-pazmino/Documents/Maestria/.venv/lib/python3.12/site-packages (from wasmtime>=12.0.0->gw-dsl-parser==0.1.49.1->pygwalker) (6.5.2)\n",
      "Requirement already satisfied: executing>=1.2.0 in /home/luis-pazmino/Documents/Maestria/.venv/lib/python3.12/site-packages (from stack_data->ipython->pygwalker) (2.2.0)\n",
      "Requirement already satisfied: asttokens>=2.1.0 in /home/luis-pazmino/Documents/Maestria/.venv/lib/python3.12/site-packages (from stack_data->ipython->pygwalker) (3.0.0)\n",
      "Requirement already satisfied: pure-eval in /home/luis-pazmino/Documents/Maestria/.venv/lib/python3.12/site-packages (from stack_data->ipython->pygwalker) (0.2.3)\n"
     ]
    }
   ],
   "source": [
    "!pip install pygwalker\n",
    "import pygwalker as pyg\n",
    "import pandas as pd"
   ]
  },
  {
   "cell_type": "code",
   "execution_count": 4,
   "id": "491988d4",
   "metadata": {},
   "outputs": [],
   "source": [
    "data = pd.read_csv(\"cuaderno1.csv\")"
   ]
  },
  {
   "cell_type": "code",
   "execution_count": 5,
   "id": "e973d4f8",
   "metadata": {},
   "outputs": [
    {
     "data": {
      "application/vnd.jupyter.widget-view+json": {
       "model_id": "5c24cb38ea364760b327b1723b987fd9",
       "version_major": 2,
       "version_minor": 0
      },
      "text/plain": [
       "Box(children=(HTML(value='\\n<div id=\"ifr-pyg-000633a4aa7d54c4pLQ0fAIrSWybeOXc\" style=\"height: auto\">\\n    <hea…"
      ]
     },
     "metadata": {},
     "output_type": "display_data"
    },
    {
     "data": {
      "text/html": [
       "<script>\n",
       "    window.addEventListener(\"message\", function(event) {\n",
       "        const backgroundMap = {\n",
       "            \"dark\": \"hsl(240 10% 3.9%)\",\n",
       "            \"light\": \"hsl(0 0 100%)\",\n",
       "        };\n",
       "        const colorMap = {\n",
       "            \"dark\": \"hsl(0 0% 98%)\",\n",
       "            \"light\": \"hsl(240 10% 3.9%)\",\n",
       "        };\n",
       "        if (event.data.action === \"changeAppearance\" && event.data.gid === \"000633a4aa7d54c4pLQ0fAIrSWybeOXc\") {\n",
       "            var iframe = document.getElementById(\"gwalker-000633a4aa7d54c4pLQ0fAIrSWybeOXc\");\n",
       "            iframe.style.background  = backgroundMap[event.data.appearance];\n",
       "            iframe.style.color = colorMap[event.data.appearance];\n",
       "        }\n",
       "    });\n",
       "</script>"
      ],
      "text/plain": [
       "<IPython.core.display.HTML object>"
      ]
     },
     "metadata": {},
     "output_type": "display_data"
    },
    {
     "data": {
      "text/html": [],
      "text/plain": [
       "<IPython.core.display.HTML object>"
      ]
     },
     "metadata": {},
     "output_type": "display_data"
    },
    {
     "data": {
      "text/plain": [
       "<pygwalker.api.pygwalker.PygWalker at 0x7ae1e174f2c0>"
      ]
     },
     "execution_count": 5,
     "metadata": {},
     "output_type": "execute_result"
    }
   ],
   "source": [
    "pyg.walk(data)\n"
   ]
  }
 ],
 "metadata": {
  "kernelspec": {
   "display_name": ".venv",
   "language": "python",
   "name": "python3"
  },
  "language_info": {
   "codemirror_mode": {
    "name": "ipython",
    "version": 3
   },
   "file_extension": ".py",
   "mimetype": "text/x-python",
   "name": "python",
   "nbconvert_exporter": "python",
   "pygments_lexer": "ipython3",
   "version": "3.12.3"
  }
 },
 "nbformat": 4,
 "nbformat_minor": 5
}
